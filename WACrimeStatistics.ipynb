{
 "cells": [
  {
   "cell_type": "code",
   "execution_count": 4,
   "metadata": {},
   "outputs": [
    {
     "name": "stdout",
     "output_type": "stream",
     "text": [
      "      Website Region  WAPOL_Hierarchy_order_Lvl1 WAPOL_Hierarchy_Lvl1  \\\n",
      "0  Armadale District                         1.1               Murder   \n",
      "1  Armadale District                         1.1               Murder   \n",
      "2  Armadale District                         1.1               Murder   \n",
      "3  Armadale District                         1.1               Murder   \n",
      "4  Armadale District                         1.1               Murder   \n",
      "\n",
      "   WAPOL_Hierarchy_order_Lvl2 WAPOL_Hierarchy_Lvl2     Period     Year  \\\n",
      "0                           1             Homicide 2007-01-01  2006-07   \n",
      "1                           1             Homicide 2007-02-01  2006-07   \n",
      "2                           1             Homicide 2007-03-01  2006-07   \n",
      "3                           1             Homicide 2007-04-01  2006-07   \n",
      "4                           1             Homicide 2007-05-01  2006-07   \n",
      "\n",
      "                                    Key  MonthYear  COUNT_of_Offnc_ID  \n",
      "0  Armadale DistrictMurderHomicide12007      12007                NaN  \n",
      "1  Armadale DistrictMurderHomicide22007      22007                NaN  \n",
      "2  Armadale DistrictMurderHomicide32007      32007                1.0  \n",
      "3  Armadale DistrictMurderHomicide42007      42007                NaN  \n",
      "4  Armadale DistrictMurderHomicide52007      52007                NaN  \n"
     ]
    }
   ],
   "source": [
    "#Dependencies\n",
    "\n",
    "import pandas as pd\n",
    "\n",
    "\n",
    "file = \"WA Police Force Crime Timeseries.xlsx\"\n",
    "WAstats = pd.read_excel(file,sheet_name = \"Data\")\n",
    "\n",
    "print(WAstats.head())\n"
   ]
  },
  {
   "cell_type": "code",
   "execution_count": null,
   "metadata": {},
   "outputs": [],
   "source": []
  },
  {
   "cell_type": "code",
   "execution_count": null,
   "metadata": {},
   "outputs": [],
   "source": []
  }
 ],
 "metadata": {
  "kernelspec": {
   "display_name": "Python 3",
   "language": "python",
   "name": "python3"
  },
  "language_info": {
   "codemirror_mode": {
    "name": "ipython",
    "version": 3
   },
   "file_extension": ".py",
   "mimetype": "text/x-python",
   "name": "python",
   "nbconvert_exporter": "python",
   "pygments_lexer": "ipython3",
   "version": "3.8.5"
  }
 },
 "nbformat": 4,
 "nbformat_minor": 4
}
